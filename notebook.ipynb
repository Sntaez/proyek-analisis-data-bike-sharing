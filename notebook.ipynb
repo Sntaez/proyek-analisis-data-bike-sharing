{
 "cells": [
  {
   "cell_type": "markdown",
   "id": "a6de075c-3899-4dc8-99f6-2fd804f48577",
   "metadata": {},
   "source": [
    "# Proyek Analisis Data: [Bike Sharing Dataset]\n",
    "- **Nama:** [Sinta Ezra Wati Gulo]\n",
    "- **Email:** [sintaezra04@gmail.com]\n",
    "- **ID Dicoding:** [sinta_ezra]"
   ]
  },
  {
   "cell_type": "markdown",
   "id": "b6d0fa88-08e9-4e05-bb79-01ccb2c6e5e1",
   "metadata": {},
   "source": [
    "## Menentukan Pertanyaan Bisnis"
   ]
  },
  {
   "cell_type": "markdown",
   "id": "da1f32a1-54e2-48ca-bf43-38875aa2452a",
   "metadata": {},
   "source": [
    "- Bagaimana tren penggunaan sepeda sepanjang tahun, dan kapan periode dengan jumlah penyewaan tertinggi dan terendah?\n",
    "- Bagaimana pengaruh kondisi cuaca terhadap jumlah penyewaan sepeda?"
   ]
  },
  {
   "cell_type": "markdown",
   "id": "19dbb345-9454-4222-9e59-a6adca183a74",
   "metadata": {},
   "source": [
    "## Import Semua Packages/Library yang Digunakan"
   ]
  },
  {
   "cell_type": "code",
   "execution_count": 1,
   "id": "f1a3758e-b99e-4184-bdc5-69b21ad01016",
   "metadata": {},
   "outputs": [],
   "source": [
    "import numpy as np\n",
    "import pandas as pd\n",
    "import matplotlib.pyplot as plt\n",
    "import seaborn as sns"
   ]
  },
  {
   "cell_type": "markdown",
   "id": "fab55e5a-be98-426e-b1c3-074df2b5d094",
   "metadata": {},
   "source": [
    "## Data Wrangling"
   ]
  },
  {
   "cell_type": "markdown",
   "id": "a912763a-520d-4d03-be79-55851f60e77c",
   "metadata": {},
   "source": [
    "### Gathering Data"
   ]
  },
  {
   "cell_type": "code",
   "execution_count": 2,
   "id": "8adfd7bb-a7aa-40bd-ad15-a5e420094723",
   "metadata": {},
   "outputs": [
    {
     "data": {
      "text/html": [
       "<div>\n",
       "<style scoped>\n",
       "    .dataframe tbody tr th:only-of-type {\n",
       "        vertical-align: middle;\n",
       "    }\n",
       "\n",
       "    .dataframe tbody tr th {\n",
       "        vertical-align: top;\n",
       "    }\n",
       "\n",
       "    .dataframe thead th {\n",
       "        text-align: right;\n",
       "    }\n",
       "</style>\n",
       "<table border=\"1\" class=\"dataframe\">\n",
       "  <thead>\n",
       "    <tr style=\"text-align: right;\">\n",
       "      <th></th>\n",
       "      <th>instant</th>\n",
       "      <th>dteday</th>\n",
       "      <th>season</th>\n",
       "      <th>yr</th>\n",
       "      <th>mnth</th>\n",
       "      <th>holiday</th>\n",
       "      <th>weekday</th>\n",
       "      <th>workingday</th>\n",
       "      <th>weathersit</th>\n",
       "      <th>temp</th>\n",
       "      <th>atemp</th>\n",
       "      <th>hum</th>\n",
       "      <th>windspeed</th>\n",
       "      <th>casual</th>\n",
       "      <th>registered</th>\n",
       "      <th>cnt</th>\n",
       "    </tr>\n",
       "  </thead>\n",
       "  <tbody>\n",
       "    <tr>\n",
       "      <th>0</th>\n",
       "      <td>1</td>\n",
       "      <td>2011-01-01</td>\n",
       "      <td>1</td>\n",
       "      <td>0</td>\n",
       "      <td>1</td>\n",
       "      <td>0</td>\n",
       "      <td>6</td>\n",
       "      <td>0</td>\n",
       "      <td>2</td>\n",
       "      <td>0.344167</td>\n",
       "      <td>0.363625</td>\n",
       "      <td>0.805833</td>\n",
       "      <td>0.160446</td>\n",
       "      <td>331</td>\n",
       "      <td>654</td>\n",
       "      <td>985</td>\n",
       "    </tr>\n",
       "    <tr>\n",
       "      <th>1</th>\n",
       "      <td>2</td>\n",
       "      <td>2011-01-02</td>\n",
       "      <td>1</td>\n",
       "      <td>0</td>\n",
       "      <td>1</td>\n",
       "      <td>0</td>\n",
       "      <td>0</td>\n",
       "      <td>0</td>\n",
       "      <td>2</td>\n",
       "      <td>0.363478</td>\n",
       "      <td>0.353739</td>\n",
       "      <td>0.696087</td>\n",
       "      <td>0.248539</td>\n",
       "      <td>131</td>\n",
       "      <td>670</td>\n",
       "      <td>801</td>\n",
       "    </tr>\n",
       "    <tr>\n",
       "      <th>2</th>\n",
       "      <td>3</td>\n",
       "      <td>2011-01-03</td>\n",
       "      <td>1</td>\n",
       "      <td>0</td>\n",
       "      <td>1</td>\n",
       "      <td>0</td>\n",
       "      <td>1</td>\n",
       "      <td>1</td>\n",
       "      <td>1</td>\n",
       "      <td>0.196364</td>\n",
       "      <td>0.189405</td>\n",
       "      <td>0.437273</td>\n",
       "      <td>0.248309</td>\n",
       "      <td>120</td>\n",
       "      <td>1229</td>\n",
       "      <td>1349</td>\n",
       "    </tr>\n",
       "    <tr>\n",
       "      <th>3</th>\n",
       "      <td>4</td>\n",
       "      <td>2011-01-04</td>\n",
       "      <td>1</td>\n",
       "      <td>0</td>\n",
       "      <td>1</td>\n",
       "      <td>0</td>\n",
       "      <td>2</td>\n",
       "      <td>1</td>\n",
       "      <td>1</td>\n",
       "      <td>0.200000</td>\n",
       "      <td>0.212122</td>\n",
       "      <td>0.590435</td>\n",
       "      <td>0.160296</td>\n",
       "      <td>108</td>\n",
       "      <td>1454</td>\n",
       "      <td>1562</td>\n",
       "    </tr>\n",
       "    <tr>\n",
       "      <th>4</th>\n",
       "      <td>5</td>\n",
       "      <td>2011-01-05</td>\n",
       "      <td>1</td>\n",
       "      <td>0</td>\n",
       "      <td>1</td>\n",
       "      <td>0</td>\n",
       "      <td>3</td>\n",
       "      <td>1</td>\n",
       "      <td>1</td>\n",
       "      <td>0.226957</td>\n",
       "      <td>0.229270</td>\n",
       "      <td>0.436957</td>\n",
       "      <td>0.186900</td>\n",
       "      <td>82</td>\n",
       "      <td>1518</td>\n",
       "      <td>1600</td>\n",
       "    </tr>\n",
       "  </tbody>\n",
       "</table>\n",
       "</div>"
      ],
      "text/plain": [
       "   instant      dteday  season  yr  mnth  holiday  weekday  workingday  \\\n",
       "0        1  2011-01-01       1   0     1        0        6           0   \n",
       "1        2  2011-01-02       1   0     1        0        0           0   \n",
       "2        3  2011-01-03       1   0     1        0        1           1   \n",
       "3        4  2011-01-04       1   0     1        0        2           1   \n",
       "4        5  2011-01-05       1   0     1        0        3           1   \n",
       "\n",
       "   weathersit      temp     atemp       hum  windspeed  casual  registered  \\\n",
       "0           2  0.344167  0.363625  0.805833   0.160446     331         654   \n",
       "1           2  0.363478  0.353739  0.696087   0.248539     131         670   \n",
       "2           1  0.196364  0.189405  0.437273   0.248309     120        1229   \n",
       "3           1  0.200000  0.212122  0.590435   0.160296     108        1454   \n",
       "4           1  0.226957  0.229270  0.436957   0.186900      82        1518   \n",
       "\n",
       "    cnt  \n",
       "0   985  \n",
       "1   801  \n",
       "2  1349  \n",
       "3  1562  \n",
       "4  1600  "
      ]
     },
     "execution_count": 2,
     "metadata": {},
     "output_type": "execute_result"
    }
   ],
   "source": [
    "# Menggunakan tren harian pada dataset day.csv untuk dianalisis berdasarkan kebutuhan pertanyaan bisnis.\n",
    "# Membaca file day.csv ke dalam DataFrame dan menampilkan 5 baris pertamanya\n",
    "day_df = pd.read_csv(\"data/day.csv\")\n",
    "day_df.head()"
   ]
  },
  {
   "cell_type": "markdown",
   "id": "3a2ac692-055e-4bc5-a062-c20b709c4f78",
   "metadata": {},
   "source": [
    "**Insight:**\n",
    "\n",
    "Dalam dataset day.csv memiliki kolom-kolom berikut:\n",
    "- instant: Indeks rekaman.\n",
    "- dteday: Tanggal.\n",
    "- season: Musim (1: Musim Semi, 2: Musim Panas, 3: Musim Gugur, 4: Musim Dingin).\n",
    "- yr: Tahun (0 = 2011, 1 = 2012).\n",
    "- mnth: Bulan (1 hingga 12).\n",
    "- holiday: Indikator apakah hari tersebut adalah hari libur atau bukan (diambil dari sumber http://dchr.dc.gov/page/holiday-schedule).\n",
    "- weekday: Hari dalam seminggu.\n",
    "- workingday: Jika hari tersebut bukan akhir pekan maupun hari libur, bernilai 1, jika tidak, bernilai 0.\n",
    "- weathersit (Kondisi cuaca):\n",
    "  <br>1: Cerah, sedikit berawan, atau sebagian berawan.\n",
    "  <br>2: Berkabut + berawan, berkabut + awan pecah, berkabut + sedikit berawan, berkabut.\n",
    "  <br>3: Salju ringan, hujan ringan + badai petir + awan tersebar, hujan ringan + awan tersebar.\n",
    "  <br>4: Hujan deras + butiran es + badai petir + kabut, salju + kabut.\n",
    "- temp: Suhu yang telah dinormalisasi dalam Celsius (dibagi dengan 41 sebagai nilai maksimum).\n",
    "- atemp: Suhu yang terasa (apparent temperature) yang telah dinormalisasi dalam Celsius (dibagi dengan 50 sebagai nilai maksimum).\n",
    "- hum: Kelembaban udara yang telah dinormalisasi (dibagi dengan 100 sebagai nilai maksimum).\n",
    "- windspeed: Kecepatan angin yang telah dinormalisasi (dibagi dengan 67 sebagai nilai maksimum).\n",
    "- casual: Jumlah penyewaan sepeda oleh pengguna tidak terdaftar.\n",
    "- registered: Jumlah penyewaan sepeda oleh pengguna terdaftar.\n",
    "- cnt: Jumlah total sepeda yang disewa, termasuk pengguna tidak terdaftar dan terdaftar.\n",
    "\n",
    "Jadi, ada 16 kolom pada day.csv."
   ]
  },
  {
   "cell_type": "markdown",
   "id": "7b7b7e62-1084-448d-a46c-c05765af84ea",
   "metadata": {},
   "source": [
    "### Assessing Data"
   ]
  },
  {
   "cell_type": "code",
   "execution_count": 3,
   "id": "76eae29a-a560-4f06-acf5-e089f7726379",
   "metadata": {},
   "outputs": [
    {
     "name": "stdout",
     "output_type": "stream",
     "text": [
      "<class 'pandas.core.frame.DataFrame'>\n",
      "RangeIndex: 731 entries, 0 to 730\n",
      "Data columns (total 16 columns):\n",
      " #   Column      Non-Null Count  Dtype  \n",
      "---  ------      --------------  -----  \n",
      " 0   instant     731 non-null    int64  \n",
      " 1   dteday      731 non-null    object \n",
      " 2   season      731 non-null    int64  \n",
      " 3   yr          731 non-null    int64  \n",
      " 4   mnth        731 non-null    int64  \n",
      " 5   holiday     731 non-null    int64  \n",
      " 6   weekday     731 non-null    int64  \n",
      " 7   workingday  731 non-null    int64  \n",
      " 8   weathersit  731 non-null    int64  \n",
      " 9   temp        731 non-null    float64\n",
      " 10  atemp       731 non-null    float64\n",
      " 11  hum         731 non-null    float64\n",
      " 12  windspeed   731 non-null    float64\n",
      " 13  casual      731 non-null    int64  \n",
      " 14  registered  731 non-null    int64  \n",
      " 15  cnt         731 non-null    int64  \n",
      "dtypes: float64(4), int64(11), object(1)\n",
      "memory usage: 91.5+ KB\n"
     ]
    }
   ],
   "source": [
    "# Memberikan informasi tentang day_df\n",
    "day_df.info()"
   ]
  },
  {
   "cell_type": "code",
   "execution_count": 4,
   "id": "2423729e-866a-42cb-8a34-49953f5a5478",
   "metadata": {},
   "outputs": [
    {
     "data": {
      "text/plain": [
       "instant       0\n",
       "dteday        0\n",
       "season        0\n",
       "yr            0\n",
       "mnth          0\n",
       "holiday       0\n",
       "weekday       0\n",
       "workingday    0\n",
       "weathersit    0\n",
       "temp          0\n",
       "atemp         0\n",
       "hum           0\n",
       "windspeed     0\n",
       "casual        0\n",
       "registered    0\n",
       "cnt           0\n",
       "dtype: int64"
      ]
     },
     "execution_count": 4,
     "metadata": {},
     "output_type": "execute_result"
    }
   ],
   "source": [
    "# Memeriksa apakah ada missing value\n",
    "day_df.isna().sum()"
   ]
  },
  {
   "cell_type": "code",
   "execution_count": 5,
   "id": "00d631d5-af32-4147-bb6e-29f5ad7e1116",
   "metadata": {},
   "outputs": [
    {
     "name": "stdout",
     "output_type": "stream",
     "text": [
      "Jumlah duplikasi =  0\n"
     ]
    }
   ],
   "source": [
    "# Memeriksa apakah ada data duplikat\n",
    "print(\"Jumlah duplikasi = \", day_df.duplicated().sum())"
   ]
  },
  {
   "cell_type": "code",
   "execution_count": 6,
   "id": "fc6f2b21-d4d0-4358-8d29-469a7b101329",
   "metadata": {},
   "outputs": [
    {
     "name": "stdout",
     "output_type": "stream",
     "text": [
      "instant         int64\n",
      "dteday         object\n",
      "season          int64\n",
      "yr              int64\n",
      "mnth            int64\n",
      "holiday         int64\n",
      "weekday         int64\n",
      "workingday      int64\n",
      "weathersit      int64\n",
      "temp          float64\n",
      "atemp         float64\n",
      "hum           float64\n",
      "windspeed     float64\n",
      "casual          int64\n",
      "registered      int64\n",
      "cnt             int64\n",
      "dtype: object\n"
     ]
    }
   ],
   "source": [
    "# Memeriksa apakah tipe data sudah sesuai\n",
    "print(day_df.dtypes)"
   ]
  },
  {
   "cell_type": "code",
   "execution_count": 7,
   "id": "a1d8e2bb-6660-4303-8404-1a69252244a1",
   "metadata": {},
   "outputs": [
    {
     "name": "stdout",
     "output_type": "stream",
     "text": [
      "Q1: 3152.0, Q3: 5956.0, IQR: 2804.0\n",
      "Lower Bound: -1054.0, Upper Bound: 10162.0\n",
      "Outliers: []\n"
     ]
    }
   ],
   "source": [
    "# Memeriksa apakah ada outlier\n",
    "# Ambil data cnt karena kolom ini adalah total sepeda yang dijual, yang mana menjadi fokus analisis saat ini\n",
    "data = day_df['cnt']\n",
    "\n",
    "# Hitung Q1, Q3\n",
    "q25, q75 = np.percentile(data, 25), np.percentile(data, 75)\n",
    "\n",
    "# Hitung IQR dan batas outlier\n",
    "iqr = q75 - q25\n",
    "cut_off = iqr * 1.5\n",
    "minimum, maximum = q25 - cut_off, q75 + cut_off\n",
    "\n",
    "# Identifikasi outlier\n",
    "outliers = [x for x in data if x < minimum or x > maximum]\n",
    "\n",
    "print(f\"Q1: {q25}, Q3: {q75}, IQR: {iqr}\")\n",
    "print(f\"Lower Bound: {minimum}, Upper Bound: {maximum}\")\n",
    "print(\"Outliers:\", outliers)"
   ]
  },
  {
   "cell_type": "code",
   "execution_count": 8,
   "id": "242769d9-a8eb-4d60-adad-a686a7637ca9",
   "metadata": {},
   "outputs": [
    {
     "data": {
      "text/html": [
       "<div>\n",
       "<style scoped>\n",
       "    .dataframe tbody tr th:only-of-type {\n",
       "        vertical-align: middle;\n",
       "    }\n",
       "\n",
       "    .dataframe tbody tr th {\n",
       "        vertical-align: top;\n",
       "    }\n",
       "\n",
       "    .dataframe thead th {\n",
       "        text-align: right;\n",
       "    }\n",
       "</style>\n",
       "<table border=\"1\" class=\"dataframe\">\n",
       "  <thead>\n",
       "    <tr style=\"text-align: right;\">\n",
       "      <th></th>\n",
       "      <th>instant</th>\n",
       "      <th>season</th>\n",
       "      <th>yr</th>\n",
       "      <th>mnth</th>\n",
       "      <th>holiday</th>\n",
       "      <th>weekday</th>\n",
       "      <th>workingday</th>\n",
       "      <th>weathersit</th>\n",
       "      <th>temp</th>\n",
       "      <th>atemp</th>\n",
       "      <th>hum</th>\n",
       "      <th>windspeed</th>\n",
       "      <th>casual</th>\n",
       "      <th>registered</th>\n",
       "      <th>cnt</th>\n",
       "    </tr>\n",
       "  </thead>\n",
       "  <tbody>\n",
       "    <tr>\n",
       "      <th>count</th>\n",
       "      <td>731.000000</td>\n",
       "      <td>731.000000</td>\n",
       "      <td>731.000000</td>\n",
       "      <td>731.000000</td>\n",
       "      <td>731.000000</td>\n",
       "      <td>731.000000</td>\n",
       "      <td>731.000000</td>\n",
       "      <td>731.000000</td>\n",
       "      <td>731.000000</td>\n",
       "      <td>731.000000</td>\n",
       "      <td>731.000000</td>\n",
       "      <td>731.000000</td>\n",
       "      <td>731.000000</td>\n",
       "      <td>731.000000</td>\n",
       "      <td>731.000000</td>\n",
       "    </tr>\n",
       "    <tr>\n",
       "      <th>mean</th>\n",
       "      <td>366.000000</td>\n",
       "      <td>2.496580</td>\n",
       "      <td>0.500684</td>\n",
       "      <td>6.519836</td>\n",
       "      <td>0.028728</td>\n",
       "      <td>2.997264</td>\n",
       "      <td>0.683995</td>\n",
       "      <td>1.395349</td>\n",
       "      <td>0.495385</td>\n",
       "      <td>0.474354</td>\n",
       "      <td>0.627894</td>\n",
       "      <td>0.190486</td>\n",
       "      <td>848.176471</td>\n",
       "      <td>3656.172367</td>\n",
       "      <td>4504.348837</td>\n",
       "    </tr>\n",
       "    <tr>\n",
       "      <th>std</th>\n",
       "      <td>211.165812</td>\n",
       "      <td>1.110807</td>\n",
       "      <td>0.500342</td>\n",
       "      <td>3.451913</td>\n",
       "      <td>0.167155</td>\n",
       "      <td>2.004787</td>\n",
       "      <td>0.465233</td>\n",
       "      <td>0.544894</td>\n",
       "      <td>0.183051</td>\n",
       "      <td>0.162961</td>\n",
       "      <td>0.142429</td>\n",
       "      <td>0.077498</td>\n",
       "      <td>686.622488</td>\n",
       "      <td>1560.256377</td>\n",
       "      <td>1937.211452</td>\n",
       "    </tr>\n",
       "    <tr>\n",
       "      <th>min</th>\n",
       "      <td>1.000000</td>\n",
       "      <td>1.000000</td>\n",
       "      <td>0.000000</td>\n",
       "      <td>1.000000</td>\n",
       "      <td>0.000000</td>\n",
       "      <td>0.000000</td>\n",
       "      <td>0.000000</td>\n",
       "      <td>1.000000</td>\n",
       "      <td>0.059130</td>\n",
       "      <td>0.079070</td>\n",
       "      <td>0.000000</td>\n",
       "      <td>0.022392</td>\n",
       "      <td>2.000000</td>\n",
       "      <td>20.000000</td>\n",
       "      <td>22.000000</td>\n",
       "    </tr>\n",
       "    <tr>\n",
       "      <th>25%</th>\n",
       "      <td>183.500000</td>\n",
       "      <td>2.000000</td>\n",
       "      <td>0.000000</td>\n",
       "      <td>4.000000</td>\n",
       "      <td>0.000000</td>\n",
       "      <td>1.000000</td>\n",
       "      <td>0.000000</td>\n",
       "      <td>1.000000</td>\n",
       "      <td>0.337083</td>\n",
       "      <td>0.337842</td>\n",
       "      <td>0.520000</td>\n",
       "      <td>0.134950</td>\n",
       "      <td>315.500000</td>\n",
       "      <td>2497.000000</td>\n",
       "      <td>3152.000000</td>\n",
       "    </tr>\n",
       "    <tr>\n",
       "      <th>50%</th>\n",
       "      <td>366.000000</td>\n",
       "      <td>3.000000</td>\n",
       "      <td>1.000000</td>\n",
       "      <td>7.000000</td>\n",
       "      <td>0.000000</td>\n",
       "      <td>3.000000</td>\n",
       "      <td>1.000000</td>\n",
       "      <td>1.000000</td>\n",
       "      <td>0.498333</td>\n",
       "      <td>0.486733</td>\n",
       "      <td>0.626667</td>\n",
       "      <td>0.180975</td>\n",
       "      <td>713.000000</td>\n",
       "      <td>3662.000000</td>\n",
       "      <td>4548.000000</td>\n",
       "    </tr>\n",
       "    <tr>\n",
       "      <th>75%</th>\n",
       "      <td>548.500000</td>\n",
       "      <td>3.000000</td>\n",
       "      <td>1.000000</td>\n",
       "      <td>10.000000</td>\n",
       "      <td>0.000000</td>\n",
       "      <td>5.000000</td>\n",
       "      <td>1.000000</td>\n",
       "      <td>2.000000</td>\n",
       "      <td>0.655417</td>\n",
       "      <td>0.608602</td>\n",
       "      <td>0.730209</td>\n",
       "      <td>0.233214</td>\n",
       "      <td>1096.000000</td>\n",
       "      <td>4776.500000</td>\n",
       "      <td>5956.000000</td>\n",
       "    </tr>\n",
       "    <tr>\n",
       "      <th>max</th>\n",
       "      <td>731.000000</td>\n",
       "      <td>4.000000</td>\n",
       "      <td>1.000000</td>\n",
       "      <td>12.000000</td>\n",
       "      <td>1.000000</td>\n",
       "      <td>6.000000</td>\n",
       "      <td>1.000000</td>\n",
       "      <td>3.000000</td>\n",
       "      <td>0.861667</td>\n",
       "      <td>0.840896</td>\n",
       "      <td>0.972500</td>\n",
       "      <td>0.507463</td>\n",
       "      <td>3410.000000</td>\n",
       "      <td>6946.000000</td>\n",
       "      <td>8714.000000</td>\n",
       "    </tr>\n",
       "  </tbody>\n",
       "</table>\n",
       "</div>"
      ],
      "text/plain": [
       "          instant      season          yr        mnth     holiday     weekday  \\\n",
       "count  731.000000  731.000000  731.000000  731.000000  731.000000  731.000000   \n",
       "mean   366.000000    2.496580    0.500684    6.519836    0.028728    2.997264   \n",
       "std    211.165812    1.110807    0.500342    3.451913    0.167155    2.004787   \n",
       "min      1.000000    1.000000    0.000000    1.000000    0.000000    0.000000   \n",
       "25%    183.500000    2.000000    0.000000    4.000000    0.000000    1.000000   \n",
       "50%    366.000000    3.000000    1.000000    7.000000    0.000000    3.000000   \n",
       "75%    548.500000    3.000000    1.000000   10.000000    0.000000    5.000000   \n",
       "max    731.000000    4.000000    1.000000   12.000000    1.000000    6.000000   \n",
       "\n",
       "       workingday  weathersit        temp       atemp         hum   windspeed  \\\n",
       "count  731.000000  731.000000  731.000000  731.000000  731.000000  731.000000   \n",
       "mean     0.683995    1.395349    0.495385    0.474354    0.627894    0.190486   \n",
       "std      0.465233    0.544894    0.183051    0.162961    0.142429    0.077498   \n",
       "min      0.000000    1.000000    0.059130    0.079070    0.000000    0.022392   \n",
       "25%      0.000000    1.000000    0.337083    0.337842    0.520000    0.134950   \n",
       "50%      1.000000    1.000000    0.498333    0.486733    0.626667    0.180975   \n",
       "75%      1.000000    2.000000    0.655417    0.608602    0.730209    0.233214   \n",
       "max      1.000000    3.000000    0.861667    0.840896    0.972500    0.507463   \n",
       "\n",
       "            casual   registered          cnt  \n",
       "count   731.000000   731.000000   731.000000  \n",
       "mean    848.176471  3656.172367  4504.348837  \n",
       "std     686.622488  1560.256377  1937.211452  \n",
       "min       2.000000    20.000000    22.000000  \n",
       "25%     315.500000  2497.000000  3152.000000  \n",
       "50%     713.000000  3662.000000  4548.000000  \n",
       "75%    1096.000000  4776.500000  5956.000000  \n",
       "max    3410.000000  6946.000000  8714.000000  "
      ]
     },
     "execution_count": 8,
     "metadata": {},
     "output_type": "execute_result"
    }
   ],
   "source": [
    "# Mencetak ringkasan statistik day_df\n",
    "day_df.describe()"
   ]
  },
  {
   "cell_type": "code",
   "execution_count": 9,
   "id": "26f8cfbb-668e-4660-a272-4a6ada3cb3a5",
   "metadata": {},
   "outputs": [
    {
     "name": "stdout",
     "output_type": "stream",
     "text": [
      "    instant      dteday  season  yr  mnth  holiday  weekday  workingday  \\\n",
      "68       69  2011-03-10       1   0     3        0        4           1   \n",
      "\n",
      "    weathersit      temp     atemp  hum  windspeed  casual  registered  cnt  \n",
      "68           3  0.389091  0.385668  0.0   0.261877      46         577  623  \n"
     ]
    }
   ],
   "source": [
    "# Memeriksa data dengan nilai hum = 0\n",
    "print(day_df[day_df[\"hum\"] == 0])"
   ]
  },
  {
   "cell_type": "markdown",
   "id": "3a729550-f77e-4319-9c28-01aabc4238d1",
   "metadata": {},
   "source": [
    "**Insight:**\n",
    "- Kolom cnt menjadi fokus analisis.\n",
    "- Rata-rata penyewaan sepeda per hari adalah 4504 sepeda.\n",
    "- Penyewaan sepeda terendah dalam sehari adalah 22 sepeda.\n",
    "- Penyewaan sepeda tertinggi dalam sehari adalah 8714 sepeda.\n",
    "- Tidak ada missing value.\n",
    "- Tidak ada data duplikat.\n",
    "- Tipe data kolom dteday belum sesuai, akan lebih baik jika tipenya adalah datetime.\n",
    "- Tidak ada outlier.\n",
    "- Tidak ada invalid value, terlihat dari hasil ringkasan bahwa value setiap kolom masih ada dalam rentang yang sudah ditentukan.\n",
    "- Terdapat inaccurate value, yaitu pada bagian nilai minimal hum. Dimana secara normal hampir tidak mungkin kelembapan = 0, terutama pada kondisi cuaca dengan nilai 3 (salju ringan, hujan ringan + badai petir + awan tersebar, hujan ringan + awan tersebar).\n",
    "- Nilai hum = 0 terjadi pada 2011-03-10."
   ]
  },
  {
   "cell_type": "markdown",
   "id": "e9af8bd1-63b4-423f-b4d5-589701bf5bb8",
   "metadata": {},
   "source": [
    "### Cleaning Data"
   ]
  },
  {
   "cell_type": "code",
   "execution_count": 10,
   "id": "63cf62f6-675c-4e45-b8d4-86827765f209",
   "metadata": {},
   "outputs": [],
   "source": [
    "# Cari median hum dari day_df untuk weathersit = 3\n",
    "median_hum_weathersit_3 = day_df[day_df['weathersit'] == 3]['hum'].median()\n",
    "\n",
    "# Update nilai hum di day_df jika hum = 0 dan weathersit = 3\n",
    "day_df.loc[(day_df['hum'] == 0) & (day_df['weathersit'] == 3), 'hum'] = median_hum_weathersit_3"
   ]
  },
  {
   "cell_type": "code",
   "execution_count": 11,
   "id": "785f5b5b-36d6-4153-a497-b56a9f2d7530",
   "metadata": {},
   "outputs": [
    {
     "name": "stdout",
     "output_type": "stream",
     "text": [
      "Empty DataFrame\n",
      "Columns: [instant, dteday, season, yr, mnth, holiday, weekday, workingday, weathersit, temp, atemp, hum, windspeed, casual, registered, cnt]\n",
      "Index: []\n"
     ]
    }
   ],
   "source": [
    "# Memeriksa apakah masih ada nilai hum = 0\n",
    "print(day_df[day_df['hum'] == 0])"
   ]
  },
  {
   "cell_type": "code",
   "execution_count": 12,
   "id": "bd4a51dd-d503-4ca7-8a6b-9d8eba8a76ca",
   "metadata": {},
   "outputs": [
    {
     "data": {
      "text/html": [
       "<div>\n",
       "<style scoped>\n",
       "    .dataframe tbody tr th:only-of-type {\n",
       "        vertical-align: middle;\n",
       "    }\n",
       "\n",
       "    .dataframe tbody tr th {\n",
       "        vertical-align: top;\n",
       "    }\n",
       "\n",
       "    .dataframe thead th {\n",
       "        text-align: right;\n",
       "    }\n",
       "</style>\n",
       "<table border=\"1\" class=\"dataframe\">\n",
       "  <thead>\n",
       "    <tr style=\"text-align: right;\">\n",
       "      <th></th>\n",
       "      <th>dteday</th>\n",
       "      <th>hum</th>\n",
       "    </tr>\n",
       "  </thead>\n",
       "  <tbody>\n",
       "    <tr>\n",
       "      <th>68</th>\n",
       "      <td>2011-03-10</td>\n",
       "      <td>0.888333</td>\n",
       "    </tr>\n",
       "  </tbody>\n",
       "</table>\n",
       "</div>"
      ],
      "text/plain": [
       "        dteday       hum\n",
       "68  2011-03-10  0.888333"
      ]
     },
     "execution_count": 12,
     "metadata": {},
     "output_type": "execute_result"
    }
   ],
   "source": [
    "day_df[day_df['dteday'] == '2011-03-10'][['dteday', 'hum']]"
   ]
  },
  {
   "cell_type": "code",
   "execution_count": 13,
   "id": "65fa0686-cdfe-41e7-acc4-a5c8cb5940da",
   "metadata": {},
   "outputs": [
    {
     "name": "stdout",
     "output_type": "stream",
     "text": [
      "Tipe data tabel day_df: \n",
      " instant                int64\n",
      "dteday        datetime64[ns]\n",
      "season                 int64\n",
      "yr                     int64\n",
      "mnth                   int64\n",
      "holiday                int64\n",
      "weekday                int64\n",
      "workingday             int64\n",
      "weathersit             int64\n",
      "temp                 float64\n",
      "atemp                float64\n",
      "hum                  float64\n",
      "windspeed            float64\n",
      "casual                 int64\n",
      "registered             int64\n",
      "cnt                    int64\n",
      "dtype: object\n"
     ]
    }
   ],
   "source": [
    "# Mengubah tipe data dteday\n",
    "day_df['dteday'] = pd.to_datetime(day_df['dteday'])\n",
    "print(\"Tipe data tabel day_df:\", \"\\n\", day_df.dtypes)"
   ]
  },
  {
   "cell_type": "code",
   "execution_count": 14,
   "id": "326d5960-3139-40da-acc5-c34415018ca4",
   "metadata": {},
   "outputs": [],
   "source": [
    "# Menghapus kolom yang tidak perlu dalam analisis\n",
    "day_df.drop(columns=['instant', 'casual', 'registered'], inplace=True)"
   ]
  },
  {
   "cell_type": "code",
   "execution_count": 15,
   "id": "70ac970d-3e8b-43f5-90d8-9e98d72e9c83",
   "metadata": {},
   "outputs": [
    {
     "name": "stdout",
     "output_type": "stream",
     "text": [
      "<class 'pandas.core.frame.DataFrame'>\n",
      "RangeIndex: 731 entries, 0 to 730\n",
      "Data columns (total 13 columns):\n",
      " #   Column      Non-Null Count  Dtype         \n",
      "---  ------      --------------  -----         \n",
      " 0   dteday      731 non-null    datetime64[ns]\n",
      " 1   season      731 non-null    int64         \n",
      " 2   yr          731 non-null    int64         \n",
      " 3   mnth        731 non-null    int64         \n",
      " 4   holiday     731 non-null    int64         \n",
      " 5   weekday     731 non-null    int64         \n",
      " 6   workingday  731 non-null    int64         \n",
      " 7   weathersit  731 non-null    int64         \n",
      " 8   temp        731 non-null    float64       \n",
      " 9   atemp       731 non-null    float64       \n",
      " 10  hum         731 non-null    float64       \n",
      " 11  windspeed   731 non-null    float64       \n",
      " 12  cnt         731 non-null    int64         \n",
      "dtypes: datetime64[ns](1), float64(4), int64(8)\n",
      "memory usage: 74.4 KB\n"
     ]
    }
   ],
   "source": [
    "# Memeriksa kolom yang ada pada day_df\n",
    "day_df.info()"
   ]
  },
  {
   "cell_type": "markdown",
   "id": "80ea18bb-4afa-43af-a107-5426cd0a0213",
   "metadata": {},
   "source": [
    "**Insight:**\n",
    "- Mengganti nilai hum = 0 menggunakan median hum pada weathersit yang bernilai sama yaitu weathersit dengan nilai 3.\n",
    "- Mengubah tipe data dteday menjadi datetime agar lebih sesuai.\n",
    "- Menghapus kolom instant, casual, dan registered, karena tidak mempengaruhi analisis untuk pertanyaan bisnis yang didefinisikan diawal. Sehingga dapat menyederhanakan analisis dan menghilangkan informasi yang tidak relevan."
   ]
  },
  {
   "cell_type": "markdown",
   "id": "a811611e-1218-4ac5-8020-20b424aeb0d7",
   "metadata": {},
   "source": [
    "## Exploratory Data Analysis (EDA)"
   ]
  },
  {
   "cell_type": "markdown",
   "id": "3f1ae65a-eda7-4cc5-a349-8afaf7ad5504",
   "metadata": {},
   "source": [
    "### Explore data day_df"
   ]
  },
  {
   "cell_type": "code",
   "execution_count": 16,
   "id": "5fd8a485-2cc3-43bf-b52c-4ea6923011e5",
   "metadata": {},
   "outputs": [
    {
     "data": {
      "text/html": [
       "<div>\n",
       "<style scoped>\n",
       "    .dataframe tbody tr th:only-of-type {\n",
       "        vertical-align: middle;\n",
       "    }\n",
       "\n",
       "    .dataframe tbody tr th {\n",
       "        vertical-align: top;\n",
       "    }\n",
       "\n",
       "    .dataframe thead th {\n",
       "        text-align: right;\n",
       "    }\n",
       "</style>\n",
       "<table border=\"1\" class=\"dataframe\">\n",
       "  <thead>\n",
       "    <tr style=\"text-align: right;\">\n",
       "      <th></th>\n",
       "      <th>dteday</th>\n",
       "      <th>season</th>\n",
       "      <th>yr</th>\n",
       "      <th>mnth</th>\n",
       "      <th>holiday</th>\n",
       "      <th>weekday</th>\n",
       "      <th>workingday</th>\n",
       "      <th>weathersit</th>\n",
       "      <th>temp</th>\n",
       "      <th>atemp</th>\n",
       "      <th>hum</th>\n",
       "      <th>windspeed</th>\n",
       "      <th>cnt</th>\n",
       "    </tr>\n",
       "  </thead>\n",
       "  <tbody>\n",
       "    <tr>\n",
       "      <th>count</th>\n",
       "      <td>731</td>\n",
       "      <td>731.000000</td>\n",
       "      <td>731.000000</td>\n",
       "      <td>731.000000</td>\n",
       "      <td>731.000000</td>\n",
       "      <td>731.000000</td>\n",
       "      <td>731.000000</td>\n",
       "      <td>731.000000</td>\n",
       "      <td>731.000000</td>\n",
       "      <td>731.000000</td>\n",
       "      <td>731.000000</td>\n",
       "      <td>731.000000</td>\n",
       "      <td>731.000000</td>\n",
       "    </tr>\n",
       "    <tr>\n",
       "      <th>mean</th>\n",
       "      <td>2012-01-01 00:00:00</td>\n",
       "      <td>2.496580</td>\n",
       "      <td>0.500684</td>\n",
       "      <td>6.519836</td>\n",
       "      <td>0.028728</td>\n",
       "      <td>2.997264</td>\n",
       "      <td>0.683995</td>\n",
       "      <td>1.395349</td>\n",
       "      <td>0.495385</td>\n",
       "      <td>0.474354</td>\n",
       "      <td>0.629109</td>\n",
       "      <td>0.190486</td>\n",
       "      <td>4504.348837</td>\n",
       "    </tr>\n",
       "    <tr>\n",
       "      <th>min</th>\n",
       "      <td>2011-01-01 00:00:00</td>\n",
       "      <td>1.000000</td>\n",
       "      <td>0.000000</td>\n",
       "      <td>1.000000</td>\n",
       "      <td>0.000000</td>\n",
       "      <td>0.000000</td>\n",
       "      <td>0.000000</td>\n",
       "      <td>1.000000</td>\n",
       "      <td>0.059130</td>\n",
       "      <td>0.079070</td>\n",
       "      <td>0.187917</td>\n",
       "      <td>0.022392</td>\n",
       "      <td>22.000000</td>\n",
       "    </tr>\n",
       "    <tr>\n",
       "      <th>25%</th>\n",
       "      <td>2011-07-02 12:00:00</td>\n",
       "      <td>2.000000</td>\n",
       "      <td>0.000000</td>\n",
       "      <td>4.000000</td>\n",
       "      <td>0.000000</td>\n",
       "      <td>1.000000</td>\n",
       "      <td>0.000000</td>\n",
       "      <td>1.000000</td>\n",
       "      <td>0.337083</td>\n",
       "      <td>0.337842</td>\n",
       "      <td>0.521041</td>\n",
       "      <td>0.134950</td>\n",
       "      <td>3152.000000</td>\n",
       "    </tr>\n",
       "    <tr>\n",
       "      <th>50%</th>\n",
       "      <td>2012-01-01 00:00:00</td>\n",
       "      <td>3.000000</td>\n",
       "      <td>1.000000</td>\n",
       "      <td>7.000000</td>\n",
       "      <td>0.000000</td>\n",
       "      <td>3.000000</td>\n",
       "      <td>1.000000</td>\n",
       "      <td>1.000000</td>\n",
       "      <td>0.498333</td>\n",
       "      <td>0.486733</td>\n",
       "      <td>0.627500</td>\n",
       "      <td>0.180975</td>\n",
       "      <td>4548.000000</td>\n",
       "    </tr>\n",
       "    <tr>\n",
       "      <th>75%</th>\n",
       "      <td>2012-07-01 12:00:00</td>\n",
       "      <td>3.000000</td>\n",
       "      <td>1.000000</td>\n",
       "      <td>10.000000</td>\n",
       "      <td>0.000000</td>\n",
       "      <td>5.000000</td>\n",
       "      <td>1.000000</td>\n",
       "      <td>2.000000</td>\n",
       "      <td>0.655417</td>\n",
       "      <td>0.608602</td>\n",
       "      <td>0.730833</td>\n",
       "      <td>0.233214</td>\n",
       "      <td>5956.000000</td>\n",
       "    </tr>\n",
       "    <tr>\n",
       "      <th>max</th>\n",
       "      <td>2012-12-31 00:00:00</td>\n",
       "      <td>4.000000</td>\n",
       "      <td>1.000000</td>\n",
       "      <td>12.000000</td>\n",
       "      <td>1.000000</td>\n",
       "      <td>6.000000</td>\n",
       "      <td>1.000000</td>\n",
       "      <td>3.000000</td>\n",
       "      <td>0.861667</td>\n",
       "      <td>0.840896</td>\n",
       "      <td>0.972500</td>\n",
       "      <td>0.507463</td>\n",
       "      <td>8714.000000</td>\n",
       "    </tr>\n",
       "    <tr>\n",
       "      <th>std</th>\n",
       "      <td>NaN</td>\n",
       "      <td>1.110807</td>\n",
       "      <td>0.500342</td>\n",
       "      <td>3.451913</td>\n",
       "      <td>0.167155</td>\n",
       "      <td>2.004787</td>\n",
       "      <td>0.465233</td>\n",
       "      <td>0.544894</td>\n",
       "      <td>0.183051</td>\n",
       "      <td>0.162961</td>\n",
       "      <td>0.140845</td>\n",
       "      <td>0.077498</td>\n",
       "      <td>1937.211452</td>\n",
       "    </tr>\n",
       "  </tbody>\n",
       "</table>\n",
       "</div>"
      ],
      "text/plain": [
       "                    dteday      season          yr        mnth     holiday  \\\n",
       "count                  731  731.000000  731.000000  731.000000  731.000000   \n",
       "mean   2012-01-01 00:00:00    2.496580    0.500684    6.519836    0.028728   \n",
       "min    2011-01-01 00:00:00    1.000000    0.000000    1.000000    0.000000   \n",
       "25%    2011-07-02 12:00:00    2.000000    0.000000    4.000000    0.000000   \n",
       "50%    2012-01-01 00:00:00    3.000000    1.000000    7.000000    0.000000   \n",
       "75%    2012-07-01 12:00:00    3.000000    1.000000   10.000000    0.000000   \n",
       "max    2012-12-31 00:00:00    4.000000    1.000000   12.000000    1.000000   \n",
       "std                    NaN    1.110807    0.500342    3.451913    0.167155   \n",
       "\n",
       "          weekday  workingday  weathersit        temp       atemp         hum  \\\n",
       "count  731.000000  731.000000  731.000000  731.000000  731.000000  731.000000   \n",
       "mean     2.997264    0.683995    1.395349    0.495385    0.474354    0.629109   \n",
       "min      0.000000    0.000000    1.000000    0.059130    0.079070    0.187917   \n",
       "25%      1.000000    0.000000    1.000000    0.337083    0.337842    0.521041   \n",
       "50%      3.000000    1.000000    1.000000    0.498333    0.486733    0.627500   \n",
       "75%      5.000000    1.000000    2.000000    0.655417    0.608602    0.730833   \n",
       "max      6.000000    1.000000    3.000000    0.861667    0.840896    0.972500   \n",
       "std      2.004787    0.465233    0.544894    0.183051    0.162961    0.140845   \n",
       "\n",
       "        windspeed          cnt  \n",
       "count  731.000000   731.000000  \n",
       "mean     0.190486  4504.348837  \n",
       "min      0.022392    22.000000  \n",
       "25%      0.134950  3152.000000  \n",
       "50%      0.180975  4548.000000  \n",
       "75%      0.233214  5956.000000  \n",
       "max      0.507463  8714.000000  \n",
       "std      0.077498  1937.211452  "
      ]
     },
     "execution_count": 16,
     "metadata": {},
     "output_type": "execute_result"
    }
   ],
   "source": [
    "day_df.describe(include=\"all\")"
   ]
  },
  {
   "cell_type": "code",
   "execution_count": 17,
   "id": "5735ef2d-081a-4c90-b6a9-d6d0d28c7236",
   "metadata": {},
   "outputs": [
    {
     "name": "stdout",
     "output_type": "stream",
     "text": [
      "               cnt\n",
      "count   731.000000\n",
      "mean   4504.348837\n",
      "std    1937.211452\n",
      "min      22.000000\n",
      "25%    3152.000000\n",
      "50%    4548.000000\n",
      "75%    5956.000000\n",
      "max    8714.000000\n"
     ]
    }
   ],
   "source": [
    "# Ringkasan statistik untuk jumlah penyewaan sepeda\n",
    "print(day_df[['cnt']].describe())"
   ]
  },
  {
   "cell_type": "code",
   "execution_count": 18,
   "id": "90e779f4-4396-4813-a013-b96b0da1ee41",
   "metadata": {},
   "outputs": [
    {
     "data": {
      "text/html": [
       "<div>\n",
       "<style scoped>\n",
       "    .dataframe tbody tr th:only-of-type {\n",
       "        vertical-align: middle;\n",
       "    }\n",
       "\n",
       "    .dataframe tbody tr th {\n",
       "        vertical-align: top;\n",
       "    }\n",
       "\n",
       "    .dataframe thead th {\n",
       "        text-align: right;\n",
       "    }\n",
       "</style>\n",
       "<table border=\"1\" class=\"dataframe\">\n",
       "  <thead>\n",
       "    <tr style=\"text-align: right;\">\n",
       "      <th></th>\n",
       "      <th>dteday</th>\n",
       "      <th>season</th>\n",
       "      <th>yr</th>\n",
       "      <th>mnth</th>\n",
       "      <th>holiday</th>\n",
       "      <th>weekday</th>\n",
       "      <th>workingday</th>\n",
       "      <th>weathersit</th>\n",
       "      <th>temp</th>\n",
       "      <th>atemp</th>\n",
       "      <th>hum</th>\n",
       "      <th>windspeed</th>\n",
       "      <th>cnt</th>\n",
       "    </tr>\n",
       "  </thead>\n",
       "  <tbody>\n",
       "    <tr>\n",
       "      <th>667</th>\n",
       "      <td>2012-10-29</td>\n",
       "      <td>4</td>\n",
       "      <td>1</td>\n",
       "      <td>10</td>\n",
       "      <td>0</td>\n",
       "      <td>1</td>\n",
       "      <td>1</td>\n",
       "      <td>3</td>\n",
       "      <td>0.44</td>\n",
       "      <td>0.4394</td>\n",
       "      <td>0.88</td>\n",
       "      <td>0.3582</td>\n",
       "      <td>22</td>\n",
       "    </tr>\n",
       "  </tbody>\n",
       "</table>\n",
       "</div>"
      ],
      "text/plain": [
       "        dteday  season  yr  mnth  holiday  weekday  workingday  weathersit  \\\n",
       "667 2012-10-29       4   1    10        0        1           1           3   \n",
       "\n",
       "     temp   atemp   hum  windspeed  cnt  \n",
       "667  0.44  0.4394  0.88     0.3582   22  "
      ]
     },
     "execution_count": 18,
     "metadata": {},
     "output_type": "execute_result"
    }
   ],
   "source": [
    "# Memeriksa data dengan penyewaan sepeda terendah\n",
    "day_df[day_df[\"cnt\"] == 22]"
   ]
  },
  {
   "cell_type": "code",
   "execution_count": 19,
   "id": "a8140024-96e5-4d26-95fb-590a8f2b1b87",
   "metadata": {},
   "outputs": [
    {
     "data": {
      "text/html": [
       "<div>\n",
       "<style scoped>\n",
       "    .dataframe tbody tr th:only-of-type {\n",
       "        vertical-align: middle;\n",
       "    }\n",
       "\n",
       "    .dataframe tbody tr th {\n",
       "        vertical-align: top;\n",
       "    }\n",
       "\n",
       "    .dataframe thead th {\n",
       "        text-align: right;\n",
       "    }\n",
       "</style>\n",
       "<table border=\"1\" class=\"dataframe\">\n",
       "  <thead>\n",
       "    <tr style=\"text-align: right;\">\n",
       "      <th></th>\n",
       "      <th>dteday</th>\n",
       "      <th>season</th>\n",
       "      <th>yr</th>\n",
       "      <th>mnth</th>\n",
       "      <th>holiday</th>\n",
       "      <th>weekday</th>\n",
       "      <th>workingday</th>\n",
       "      <th>weathersit</th>\n",
       "      <th>temp</th>\n",
       "      <th>atemp</th>\n",
       "      <th>hum</th>\n",
       "      <th>windspeed</th>\n",
       "      <th>cnt</th>\n",
       "    </tr>\n",
       "  </thead>\n",
       "  <tbody>\n",
       "    <tr>\n",
       "      <th>623</th>\n",
       "      <td>2012-09-15</td>\n",
       "      <td>3</td>\n",
       "      <td>1</td>\n",
       "      <td>9</td>\n",
       "      <td>0</td>\n",
       "      <td>6</td>\n",
       "      <td>0</td>\n",
       "      <td>1</td>\n",
       "      <td>0.608333</td>\n",
       "      <td>0.585867</td>\n",
       "      <td>0.501667</td>\n",
       "      <td>0.247521</td>\n",
       "      <td>8714</td>\n",
       "    </tr>\n",
       "  </tbody>\n",
       "</table>\n",
       "</div>"
      ],
      "text/plain": [
       "        dteday  season  yr  mnth  holiday  weekday  workingday  weathersit  \\\n",
       "623 2012-09-15       3   1     9        0        6           0           1   \n",
       "\n",
       "         temp     atemp       hum  windspeed   cnt  \n",
       "623  0.608333  0.585867  0.501667   0.247521  8714  "
      ]
     },
     "execution_count": 19,
     "metadata": {},
     "output_type": "execute_result"
    }
   ],
   "source": [
    "# Memeriksa data dengan penyewaan sepeda tertinggi\n",
    "day_df[day_df[\"cnt\"] == 8714]"
   ]
  },
  {
   "cell_type": "code",
   "execution_count": 20,
   "id": "ead09051-3d63-4e10-8d17-8ade5aeff788",
   "metadata": {},
   "outputs": [
    {
     "name": "stdout",
     "output_type": "stream",
     "text": [
      "\n",
      "Rata-rata Penyewaan Sepeda Berdasarkan Hari dalam Seminggu:\n",
      "   Weekday  Average Rentals\n",
      "0        0      4228.828571\n",
      "1        1      4338.123810\n",
      "2        2      4510.663462\n",
      "3        3      4548.538462\n",
      "4        4      4667.259615\n",
      "5        5      4690.288462\n",
      "6        6      4550.542857\n"
     ]
    }
   ],
   "source": [
    "# Rata-rata penyewaan sepeda per hari dalam seminggu\n",
    "weekday_counts = day_df.groupby(\"weekday\")[\"cnt\"].mean().reset_index()\n",
    "weekday_counts.columns = [\"Weekday\", \"Average Rentals\"]\n",
    "print(\"\\nRata-rata Penyewaan Sepeda Berdasarkan Hari dalam Seminggu:\")\n",
    "print(weekday_counts)"
   ]
  },
  {
   "cell_type": "code",
   "execution_count": 21,
   "id": "e6306bc3-720b-4984-b116-1e17800bc763",
   "metadata": {},
   "outputs": [
    {
     "name": "stdout",
     "output_type": "stream",
     "text": [
      "\n",
      "Rata-rata Penyewaan Sepeda Berdasarkan Bulan:\n",
      "    mnth  Average Rentals\n",
      "0      1      2176.338710\n",
      "1      2      2655.298246\n",
      "2      3      3692.258065\n",
      "3      4      4484.900000\n",
      "4      5      5349.774194\n",
      "5      6      5772.366667\n",
      "6      7      5563.677419\n",
      "7      8      5664.419355\n",
      "8      9      5766.516667\n",
      "9     10      5199.225806\n",
      "10    11      4247.183333\n",
      "11    12      3403.806452\n"
     ]
    }
   ],
   "source": [
    "# Rata-rata penyewaan berdasarkan bulan\n",
    "month_counts = day_df.groupby(\"mnth\")[\"cnt\"].mean().reset_index()\n",
    "month_counts.columns = [\"mnth\", \"Average Rentals\"]\n",
    "print(\"\\nRata-rata Penyewaan Sepeda Berdasarkan Bulan:\")\n",
    "print(month_counts)"
   ]
  },
  {
   "cell_type": "code",
   "execution_count": 22,
   "id": "8ed11ca9-0610-4bde-829a-2c39ce532791",
   "metadata": {},
   "outputs": [
    {
     "name": "stdout",
     "output_type": "stream",
     "text": [
      "\n",
      "Rata-rata Penyewaan Sepeda Berdasarkan Musim:\n",
      "   Season  Average Rentals\n",
      "0       1      2604.132597\n",
      "1       2      4992.331522\n",
      "2       3      5644.303191\n",
      "3       4      4728.162921\n"
     ]
    }
   ],
   "source": [
    "# Rata-rata penyewaan sepeda berdasarkan musim:\n",
    "season_counts = day_df.groupby(\"season\")[\"cnt\"].mean().reset_index()\n",
    "season_counts.columns = [\"Season\", \"Average Rentals\"]\n",
    "print(\"\\nRata-rata Penyewaan Sepeda Berdasarkan Musim:\")\n",
    "print(season_counts)"
   ]
  },
  {
   "cell_type": "code",
   "execution_count": 23,
   "id": "46596ca9-81cd-432b-b912-afc95e6840ef",
   "metadata": {},
   "outputs": [
    {
     "name": "stdout",
     "output_type": "stream",
     "text": [
      "   Weather Condition  Average Rentals\n",
      "0                  1      4876.786177\n",
      "1                  2      4035.862348\n",
      "2                  3      1803.285714\n"
     ]
    }
   ],
   "source": [
    "# Rata-rata penyewaan pada kondisi cuaca tertentu\n",
    "weather_rentals = day_df.groupby(\"weathersit\")[\"cnt\"].mean().reset_index()\n",
    "weather_rentals.columns = [\"Weather Condition\", \"Average Rentals\"]\n",
    "print(weather_rentals)"
   ]
  },
  {
   "cell_type": "markdown",
   "id": "b12476ba-e0c6-4404-8998-ef93edb32c13",
   "metadata": {},
   "source": [
    "**Insight:**\n",
    "- Dari hasil di atas, kita dapat melihat gambaran awal bahwa:\n",
    "<br>- Rata-rata penyewaan per hari adalah 4504 sepeda.\n",
    "<br>- Minimal penyewaan per hari adalah 22 sepeda. Penyewaan terendah terjadi pada musim dingin di hari Selasa dengan cuaca hujan deras + butiran es + badai petir + kabut, salju + kabut.\n",
    "<br>- Maximal penyewaan per hari adalah 8714 sepeda. Penyewaan tertinggi terjadi pada musim gugur di hari Minggu dengan kondisi cuaca cerah, sedikit berawan, atau sebagian berawan.\n",
    "- Penyewaan sepeda cenderung meningkat dari Senin hingga Sabtu. Sabtu memiliki jumlah penyewaan tertinggi, hal ini masuk akal karena Sabtu merupakan hari libur bagi sebagian besar pekerja dan pelajar, sehingga mereka lebih leluasa untuk bersepeda. Ada sedikit penurunan pada Minggu, tetapi penyewaan sepeda masih cukup tinggi.\n",
    "- Penyewaan sepeda mulai meningkat signifikan dari bulan Maret (3692), April (4484), hingga mencapai puncaknya pada bulan Juni (5772) dan tetap tinggi hingga September (5766). Bulan Juni menjadi bulan dengan rata-rata penyewaan tertinggi (5772), diikuti oleh September (5766) dan Agustus (5664). Setelah September, jumlah penyewaan mulai menurun drastis, terutama di bulan November (4247) dan Desember (3403).\n",
    "- 1: Musim Semi, 2: Musim Panas, 3: Musim Gugur, 4: Musim Dingin. Musim Semi memiliki penyewaan terendah, sekitar 3000-an. Hal ini mungkin karena cuaca masih dingin atau hujan yang menghambat aktivitas luar ruangan. Musim Panas menunjukkan peningkatan signifikan, dengan rata-rata penyewaan mencapai lebih dari 5000. Ini wajar karena musim panas cenderung lebih nyaman untuk bersepeda. Musim Gugur mencatat penyewaan tertinggi, mendekati 5500. Bisa jadi ini karena suhu masih nyaman dan belum terlalu dingin. Musim Dingin mengalami sedikit penurunan dibandingkan musim gugur, tetapi masih cukup tinggi, sekitar 5000-an. Ini mungkin karena meskipun dingin, orang tetap beraktivitas.\n",
    "- Penyewaan sepeda tertinggi terjadi pada cuaca cerah atau sedikit berawan (kategori 1), dengan rata-rata 4.876 penyewaan per hari.\n",
    "Penyewaan menurun pada cuaca berkabut atau mendung (kategori 2), dengan rata-rata 4.035 penyewaan per hari.\n",
    "Penyewaan sepeda jauh lebih rendah pada cuaca buruk seperti hujan ringan atau salju ringan (kategori 3), dengan rata-rata hanya 1.803 penyewaan per hari."
   ]
  },
  {
   "cell_type": "markdown",
   "id": "3e4c9e2e-806e-4bf2-ad4b-88f75514b70d",
   "metadata": {},
   "source": [
    "## Visualization & Explanatory Analysis"
   ]
  },
  {
   "cell_type": "markdown",
   "id": "4f46ef38-e580-4ef4-a65f-06034207629e",
   "metadata": {},
   "source": [
    "### Pertanyaan 1: Bagaimana tren penggunaan sepeda sepanjang tahun, dan kapan periode dengan jumlah penyewaan tertinggi dan terendah?"
   ]
  },
  {
   "cell_type": "code",
   "execution_count": 73,
   "id": "67ac26e8-9a12-4c06-92a2-d70dc5d35e63",
   "metadata": {},
   "outputs": [
    {
     "data": {
      "image/png": "[encoded data removed]",
      "text/plain": [
       "<Figure size 1000x500 with 1 Axes>"
      ]
     },
     "metadata": {},
     "output_type": "display_data"
    }
   ],
   "source": [
    "# Distribusi penyewaan sepeda per hari\n",
    "plt.figure(figsize=(10, 5))\n",
    "sns.histplot(day_df['cnt'], bins=30, kde=True, color='blue')\n",
    "plt.xlabel(\"Jumlah Penyewaan Sepeda\")\n",
    "plt.ylabel(\"Frekuensi\")\n",
    "plt.title(\"Distribusi Penyewaan Sepeda per Hari\")\n",
    "plt.show()"
   ]
  },
  {
   "cell_type": "code",
   "execution_count": 67,
   "id": "9a6aae67-6d74-47d7-b02f-a50ada70eada",
   "metadata": {},
   "outputs": [
    {
     "data": {
      "image/png": "[encoded data removed]",
      "text/plain": [
       "<Figure size 800x500 with 1 Axes>"
      ]
     },
     "metadata": {},
     "output_type": "display_data"
    }
   ],
   "source": [
    "# Rata-rata penyewaan sepeda per hari dalam seminggu\n",
    "weekday_avg = day_df.groupby(\"weekday\")[\"cnt\"].mean().reset_index()\n",
    "day_names = [\"Senin\", \"Selasa\", \"Rabu\", \"Kamis\", \"Jumat\", \"Sabtu\", \"Minggu\"]\n",
    "plt.figure(figsize=(8, 5))\n",
    "sns.barplot(x='weekday', y='cnt', hue='weekday', data=weekday_avg, palette='viridis', legend=False)\n",
    "plt.xticks(ticks=range(7), labels=day_names)\n",
    "plt.xlabel(\"\\nHari\")\n",
    "plt.ylabel(\"Rata-rata Penyewaan Sepeda\")\n",
    "plt.title(\"Rata-rata Penyewaan Sepeda per Hari dalam Seminggu\")\n",
    "plt.show()"
   ]
  },
  {
   "cell_type": "code",
   "execution_count": 69,
   "id": "864ede75-87c4-4017-b08f-a924c64ca93e",
   "metadata": {},
   "outputs": [
    {
     "data": {
      "image/png": "[encoded data removed]",
      "text/plain": [
       "<Figure size 1000x500 with 1 Axes>"
      ]
     },
     "metadata": {},
     "output_type": "display_data"
    }
   ],
   "source": [
    "# Rata-rata penyewaan sepeda per bulan\n",
    "month_avg = day_df.groupby(\"mnth\")[\"cnt\"].mean().reset_index()\n",
    "plt.figure(figsize=(10, 5))\n",
    "sns.barplot(x='mnth', y='cnt', hue='mnth', data=month_avg, palette='viridis', legend=False)\n",
    "plt.xticks(range(0, 13))\n",
    "plt.xlabel(\"Bulan\")\n",
    "plt.ylabel(\"Rata-rata Penyewaan Sepeda\\n\")\n",
    "plt.title(\"Rata-rata Penyewaan Sepeda per Bulan\")\n",
    "plt.show()"
   ]
  },
  {
   "cell_type": "code",
   "execution_count": 70,
   "id": "8f2025aa-55b0-4155-b8ae-73b2c5b63708",
   "metadata": {},
   "outputs": [
    {
     "data": {
      "image/png": "[encoded data removed]",
      "text/plain": [
       "<Figure size 800x500 with 1 Axes>"
      ]
     },
     "metadata": {},
     "output_type": "display_data"
    }
   ],
   "source": [
    "# Mapping angka season ke nama musim\n",
    "season_labels = {1: \"Semi\", 2: \"Panas\", 3: \"Gugur\", 4: \"Dingin\"}\n",
    "season_avg = day_df.groupby(\"season\")[\"cnt\"].mean().reset_index()\n",
    "\n",
    "# Ganti angka dengan nama musim\n",
    "season_avg[\"season\"] = season_avg[\"season\"].replace(season_labels)\n",
    "\n",
    "plt.figure(figsize=(8, 5))\n",
    "sns.barplot(x=\"season\", y=\"cnt\", hue=\"season\", data=season_avg, palette=\"viridis\", legend=False)\n",
    "\n",
    "plt.xlabel(\"Musim\")\n",
    "plt.ylabel(\"Rata-rata Penyewaan Sepeda\\n\")\n",
    "plt.title(\"Rata-rata Penyewaan Sepeda per Musim\")\n",
    "\n",
    "plt.show()"
   ]
  },
  {
   "cell_type": "markdown",
   "id": "d1b1a02d-bf7d-4fc7-a5e2-2a7f73cb1c31",
   "metadata": {},
   "source": [
    "**Insight:**\n",
    "- Distibusi penyewaan sepeda per hari\n",
    "  <br>Distribusi mengindikasikan adanya dua rentang penyewaan yang sering terjadi.Sebagian besar penyewaan berada dalam kisaran 2.000 hingga 6.000 sepeda per hari, dengan beberapa hari mencapai lebih dari 8.000 penyewaan. Jumlah penyewaan tertinggi berada di sekitar 4.000 hingga 5.000 sepeda per hari, yang merupakan nilai rata-rata penyewaan. Ada sedikit kemiringan ke kanan (positively skewed), yang menunjukkan bahwa terdapat beberapa hari dengan penyewaan yang jauh lebih tinggi dari rata-rata.\n",
    "\n",
    "- Penyewaan sepeda per hari dalam seminggu\n",
    "  <br>Penyewaan cenderung meningkat dari hari Senin-Sabtu, dan mengalami sedikit penurunan di hari Minggu. Penyewaan tertinggi terjadi pada hari Jumat dan Sabtu, yang bisa jadi karena pengguna memanfaatkan layanan sebelum akhir pekan. Penyewaan paling rendah ada di hari Senin.\n",
    "\n",
    "- Penyewaan sepeda per bulan\n",
    "  <br>Penyewaan sepeda mulai meningkat signifikan dari bulan Maret, April, hingga mencapai puncaknya pada bulan Juni dan tetap tinggi hingga September, meskipun ada sedikit penurunan di bulan Juli dan Agustus. Rata-rata penyewaan sepeda paling banyak ada di bulan Juni dan September. Setelah September, jumlah penyewaan mulai menurun drastis, terutama di bulan November dan Desember.\n",
    "\n",
    "- Penyewaan sepeda per musim\n",
    "  <br>Rata-rata penyewaan sepeda paling banyak ada di musim gugur, yang mana ini bisa terjadi karena suhu masih nyaman dan belum terlalu dingin. Rata-rata penyewaan terendah ada di musim semi, hal ini mungkin terjadi karena cuaca masih dingin atau hujan yang menghambat aktivitas luar ruangan. Musim Panas menunjukkan peningkatan signifikan. Ini wajar karena musim panas cenderung lebih nyaman untuk bersepeda. Musim Dingin mengalami sedikit penurunan dibandingkan musim gugur, tetapi masih cukup tinggi. Ini mungkin karena meskipun dingin, orang tetap beraktivitas."
   ]
  },
  {
   "cell_type": "markdown",
   "id": "494bd4ac-f766-48c6-b3d8-acf8dc613896",
   "metadata": {},
   "source": [
    "### Pertanyaan 2: Bagaimana pengaruh kondisi cuaca terhadap jumlah penyewaan sepeda?"
   ]
  },
  {
   "cell_type": "code",
   "execution_count": 71,
   "id": "c35103d4-8225-45bd-b241-0f2efe6fd846",
   "metadata": {},
   "outputs": [
    {
     "data": {
      "image/png": "[encoded data removed]",
      "text/plain": [
       "<Figure size 800x500 with 1 Axes>"
      ]
     },
     "metadata": {},
     "output_type": "display_data"
    }
   ],
   "source": [
    "# Rata-rata penyewaan sepeda pada setiap \n",
    "weather_labels = {1: \"Cerah\", 2: \"Berawan & Berkabut\", 3: \"Salju/Hujan Ringan\"}\n",
    "weather_avg = day_df.groupby(\"weathersit\")[\"cnt\"].mean().reset_index()\n",
    "\n",
    "# Ganti angka dengan nama musim\n",
    "weather_avg[\"weathersit\"] = weather_avg[\"weathersit\"].replace(weather_labels)\n",
    "\n",
    "plt.figure(figsize=(8, 5))\n",
    "sns.barplot(x='weathersit', y='cnt', hue='weathersit', data=weather_avg, palette='viridis', legend=False)\n",
    "plt.xlabel(\"\\nKondisi Cuaca\")\n",
    "plt.ylabel(\"Rata-rata Penyewaan Sepeda\\n\")\n",
    "plt.title(\"Rata-rata Penyewaan Sepeda pada Setiap Cuaca\")\n",
    "plt.show()"
   ]
  },
  {
   "cell_type": "markdown",
   "id": "d9baf97a-4f66-4b99-9c35-9325b4b6ea02",
   "metadata": {},
   "source": [
    "**Insight:**\n",
    "- Rata-rata penyewaan sepeda tertinggi terjadi ketika cuaca cerah, sedikit berawan, atau sebagian berawan.\n",
    "- Rata-rata penyewaan sepeda terendah terjadi ketika cuaca hujan/salju ringan.\n",
    "- Sementara penyewaan sepeda ketika cuaca berkabut/berawan masih cukup tinggi."
   ]
  },
  {
   "cell_type": "markdown",
   "id": "b986a101-ab4b-480c-8f10-9eab91fc27a0",
   "metadata": {},
   "source": [
    "## Conclusion"
   ]
  },
  {
   "cell_type": "markdown",
   "id": "d04e8771-5188-4653-9002-0784fa911796",
   "metadata": {},
   "source": [
    "- Conclution pertanyaan 1\n",
    "\n",
    "\n",
    "  Tren penggunaan sepeda sepanjang tahun menunjukkan fluktuasi yang dipengaruhi oleh faktor cuaca dan musim. Penyewaan sepeda meningkat signifikan pada musim panas dan musim gugur, sementara menurun pada musim semi dan musim dingin. Puncak penyewaan terjadi pada bulan Juni dan September, yang biasanya merupakan periode dengan cuaca yang lebih hangat dan stabil. Secara keseluruhan, penyewaan sepeda cenderung meningkat seiring berjalannya waktu dari bulan Januari hingga September, meskipun ada penurunan kecil pada bulan Juli dan Agustus.\n",
    "\n",
    "  Periode dengan jumlah penyewaan tertinggi terjadi pada hari Jumat dan Sabtu, yang diperkirakan karena orang-orang memanfaatkan layanan sepeda sebelum akhir pekan. Penyewaan juga paling tinggi di bulan Juni dan September, ketika suhu lebih mendukung aktivitas luar ruangan. Sebaliknya, periode dengan penyewaan terendah terjadi pada hari Senin, yang menunjukkan penurunan dibandingkan hari lainnya, serta musim semi dan bulan November-Desember, di mana cuaca lebih dingin dan kurang mendukung aktivitas bersepeda.\n",
    "  \n",
    "- Conclution pertanyaan 2\n",
    "\n",
    "\n",
    "  Kondisi cuaca memiliki pengaruh signifikan terhadap jumlah penyewaan sepeda. Penyewaan sepeda cenderung paling tinggi ketika cuaca cerah, sedikit berawan, atau sebagian berawan, yang menciptakan kondisi ideal untuk bersepeda di luar ruangan. Sebaliknya, penyewaan sepeda menurun drastis ketika cuaca hujan atau salju ringan, yang membuat orang enggan beraktivitas di luar. Meskipun cuaca berkabut atau berawan dapat sedikit mengurangi kenyamanan, penyewaan sepeda masih tetap cukup tinggi, menunjukkan bahwa cuaca seperti ini tidak terlalu menghambat minat orang untuk bersepeda."
   ]
  },
  {
   "cell_type": "code",
   "execution_count": 90,
   "id": "d5de5696-37ec-46c1-a5ab-90f9a45a46db",
   "metadata": {},
   "outputs": [],
   "source": [
    "day_df.to_csv(\"main_data.csv\", index=False)"
   ]
  }
 ],
 "metadata": {
  "kernelspec": {
   "display_name": "Python 3 (ipykernel)",
   "language": "python",
   "name": "python3"
  },
  "language_info": {
   "codemirror_mode": {
    "name": "ipython",
    "version": 3
   },
   "file_extension": ".py",
   "mimetype": "text/x-python",
   "name": "python",
   "nbconvert_exporter": "python",
   "pygments_lexer": "ipython3",
   "version": "3.10.6"
  }
 },
 "nbformat": 4,
 "nbformat_minor": 5
}
